{
  "nbformat": 4,
  "nbformat_minor": 0,
  "metadata": {
    "colab": {
      "provenance": [],
      "authorship_tag": "ABX9TyNCYkha4FYvw7/cFnKfkGDP",
      "include_colab_link": true
    },
    "kernelspec": {
      "name": "python3",
      "display_name": "Python 3"
    },
    "language_info": {
      "name": "python"
    }
  },
  "cells": [
    {
      "cell_type": "markdown",
      "metadata": {
        "id": "view-in-github",
        "colab_type": "text"
      },
      "source": [
        "<a href=\"https://colab.research.google.com/github/wmhowarth/Prediction-of-Product-Sales/blob/main/Untitled1.ipynb\" target=\"_parent\"><img src=\"https://colab.research.google.com/assets/colab-badge.svg\" alt=\"Open In Colab\"/></a>"
      ]
    },
    {
      "cell_type": "markdown",
      "source": [
        "\n",
        "# Prediction of Product Sales\n",
        "\n",
        "- Author: Warren Howarth\n",
        "\n",
        "## Project Overview\n",
        "\n",
        "## Load and Inspect Data\n",
        "\n",
        "## Clean Data\n",
        "\n",
        "## Exploratory Data Analysis\n",
        "\n",
        "## Explanatory Data Analysis\n",
        "\n",
        "## Feature Inspection\n",
        "\n"
      ],
      "metadata": {
        "id": "64Sa8GYFNuqn"
      }
    },
    {
      "cell_type": "code",
      "source": [],
      "metadata": {
        "id": "YRwZcvofOjFq"
      },
      "execution_count": null,
      "outputs": []
    }
  ]
}